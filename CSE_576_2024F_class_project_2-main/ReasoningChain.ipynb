{
 "cells": [
  {
   "cell_type": "code",
   "execution_count": 2,
   "id": "82e6150e-7a9b-47ed-913b-a8645a6509e6",
   "metadata": {},
   "outputs": [
    {
     "data": {
      "application/vnd.jupyter.widget-view+json": {
       "model_id": "d98a895c8ea34b5684a4dc6b998c9f47",
       "version_major": 2,
       "version_minor": 0
      },
      "text/plain": [
       "Loading checkpoint shards:   0%|          | 0/4 [00:00<?, ?it/s]"
      ]
     },
     "metadata": {},
     "output_type": "display_data"
    }
   ],
   "source": [
    "import pandas as pd\n",
    "import torch\n",
    "import json\n",
    "from transformers import AutoModelForCausalLM, AutoTokenizer\n",
    "\n",
    "# Initialize the model and tokenizer\n",
    "model_name = \"meta-llama/Llama-3.1-8B-Instruct\"\n",
    "\n",
    "# Load the model\n",
    "model = AutoModelForCausalLM.from_pretrained(\n",
    "    model_name,\n",
    "    device_map=\"cuda\",\n",
    "    use_cache=None,\n",
    "    attn_implementation=None,\n",
    ")\n",
    "model.device\n",
    "\n",
    "# Load the tokenizer\n",
    "tokenizer = AutoTokenizer.from_pretrained(model_name)\n",
    "tokenizer.pad_token_id = tokenizer.eos_token_id"
   ]
  },
  {
   "cell_type": "code",
   "execution_count": 8,
   "id": "244cede6-d892-4d09-aabb-da768e9f5f3d",
   "metadata": {
    "scrolled": true
   },
   "outputs": [
    {
     "name": "stderr",
     "output_type": "stream",
     "text": [
      "Setting `pad_token_id` to `eos_token_id`:None for open-end generation.\n",
      "Setting `pad_token_id` to `eos_token_id`:None for open-end generation.\n"
     ]
    },
    {
     "name": "stdout",
     "output_type": "stream",
     "text": [
      "Output saved to /home/smanylal/MidTermReport1/NLPFinal/New/legal_reasoning_with_answers.json\n"
     ]
    },
    {
     "name": "stderr",
     "output_type": "stream",
     "text": [
      "Setting `pad_token_id` to `eos_token_id`:None for open-end generation.\n"
     ]
    },
    {
     "name": "stdout",
     "output_type": "stream",
     "text": [
      "Output saved to /home/smanylal/MidTermReport1/NLPFinal/New/legal_reasoning_with_answers.json\n"
     ]
    },
    {
     "name": "stderr",
     "output_type": "stream",
     "text": [
      "Setting `pad_token_id` to `eos_token_id`:None for open-end generation.\n"
     ]
    },
    {
     "name": "stdout",
     "output_type": "stream",
     "text": [
      "Output saved to /home/smanylal/MidTermReport1/NLPFinal/New/legal_reasoning_with_answers.json\n"
     ]
    },
    {
     "name": "stderr",
     "output_type": "stream",
     "text": [
      "Setting `pad_token_id` to `eos_token_id`:None for open-end generation.\n"
     ]
    },
    {
     "name": "stdout",
     "output_type": "stream",
     "text": [
      "Output saved to /home/smanylal/MidTermReport1/NLPFinal/New/legal_reasoning_with_answers.json\n"
     ]
    },
    {
     "name": "stderr",
     "output_type": "stream",
     "text": [
      "Setting `pad_token_id` to `eos_token_id`:None for open-end generation.\n"
     ]
    },
    {
     "name": "stdout",
     "output_type": "stream",
     "text": [
      "Output saved to /home/smanylal/MidTermReport1/NLPFinal/New/legal_reasoning_with_answers.json\n"
     ]
    },
    {
     "name": "stderr",
     "output_type": "stream",
     "text": [
      "Setting `pad_token_id` to `eos_token_id`:None for open-end generation.\n"
     ]
    },
    {
     "name": "stdout",
     "output_type": "stream",
     "text": [
      "Output saved to /home/smanylal/MidTermReport1/NLPFinal/New/legal_reasoning_with_answers.json\n"
     ]
    },
    {
     "name": "stderr",
     "output_type": "stream",
     "text": [
      "Setting `pad_token_id` to `eos_token_id`:None for open-end generation.\n"
     ]
    },
    {
     "name": "stdout",
     "output_type": "stream",
     "text": [
      "Output saved to /home/smanylal/MidTermReport1/NLPFinal/New/legal_reasoning_with_answers.json\n"
     ]
    },
    {
     "name": "stderr",
     "output_type": "stream",
     "text": [
      "Setting `pad_token_id` to `eos_token_id`:None for open-end generation.\n"
     ]
    },
    {
     "name": "stdout",
     "output_type": "stream",
     "text": [
      "Output saved to /home/smanylal/MidTermReport1/NLPFinal/New/legal_reasoning_with_answers.json\n"
     ]
    },
    {
     "name": "stderr",
     "output_type": "stream",
     "text": [
      "Setting `pad_token_id` to `eos_token_id`:None for open-end generation.\n"
     ]
    },
    {
     "name": "stdout",
     "output_type": "stream",
     "text": [
      "Output saved to /home/smanylal/MidTermReport1/NLPFinal/New/legal_reasoning_with_answers.json\n"
     ]
    },
    {
     "name": "stderr",
     "output_type": "stream",
     "text": [
      "Setting `pad_token_id` to `eos_token_id`:None for open-end generation.\n"
     ]
    },
    {
     "name": "stdout",
     "output_type": "stream",
     "text": [
      "Output saved to /home/smanylal/MidTermReport1/NLPFinal/New/legal_reasoning_with_answers.json\n"
     ]
    },
    {
     "name": "stderr",
     "output_type": "stream",
     "text": [
      "Setting `pad_token_id` to `eos_token_id`:None for open-end generation.\n"
     ]
    },
    {
     "name": "stdout",
     "output_type": "stream",
     "text": [
      "Output saved to /home/smanylal/MidTermReport1/NLPFinal/New/legal_reasoning_with_answers.json\n"
     ]
    },
    {
     "name": "stderr",
     "output_type": "stream",
     "text": [
      "Setting `pad_token_id` to `eos_token_id`:None for open-end generation.\n"
     ]
    },
    {
     "name": "stdout",
     "output_type": "stream",
     "text": [
      "Output saved to /home/smanylal/MidTermReport1/NLPFinal/New/legal_reasoning_with_answers.json\n"
     ]
    },
    {
     "name": "stderr",
     "output_type": "stream",
     "text": [
      "Setting `pad_token_id` to `eos_token_id`:None for open-end generation.\n"
     ]
    },
    {
     "name": "stdout",
     "output_type": "stream",
     "text": [
      "Output saved to /home/smanylal/MidTermReport1/NLPFinal/New/legal_reasoning_with_answers.json\n"
     ]
    },
    {
     "name": "stderr",
     "output_type": "stream",
     "text": [
      "Setting `pad_token_id` to `eos_token_id`:None for open-end generation.\n"
     ]
    },
    {
     "name": "stdout",
     "output_type": "stream",
     "text": [
      "Output saved to /home/smanylal/MidTermReport1/NLPFinal/New/legal_reasoning_with_answers.json\n"
     ]
    },
    {
     "name": "stderr",
     "output_type": "stream",
     "text": [
      "Setting `pad_token_id` to `eos_token_id`:None for open-end generation.\n"
     ]
    },
    {
     "name": "stdout",
     "output_type": "stream",
     "text": [
      "Output saved to /home/smanylal/MidTermReport1/NLPFinal/New/legal_reasoning_with_answers.json\n"
     ]
    },
    {
     "name": "stderr",
     "output_type": "stream",
     "text": [
      "Setting `pad_token_id` to `eos_token_id`:None for open-end generation.\n"
     ]
    },
    {
     "name": "stdout",
     "output_type": "stream",
     "text": [
      "Output saved to /home/smanylal/MidTermReport1/NLPFinal/New/legal_reasoning_with_answers.json\n"
     ]
    },
    {
     "name": "stderr",
     "output_type": "stream",
     "text": [
      "Setting `pad_token_id` to `eos_token_id`:None for open-end generation.\n"
     ]
    },
    {
     "name": "stdout",
     "output_type": "stream",
     "text": [
      "Output saved to /home/smanylal/MidTermReport1/NLPFinal/New/legal_reasoning_with_answers.json\n"
     ]
    },
    {
     "name": "stderr",
     "output_type": "stream",
     "text": [
      "Setting `pad_token_id` to `eos_token_id`:None for open-end generation.\n"
     ]
    },
    {
     "name": "stdout",
     "output_type": "stream",
     "text": [
      "Output saved to /home/smanylal/MidTermReport1/NLPFinal/New/legal_reasoning_with_answers.json\n"
     ]
    },
    {
     "name": "stderr",
     "output_type": "stream",
     "text": [
      "Setting `pad_token_id` to `eos_token_id`:None for open-end generation.\n"
     ]
    },
    {
     "name": "stdout",
     "output_type": "stream",
     "text": [
      "Output saved to /home/smanylal/MidTermReport1/NLPFinal/New/legal_reasoning_with_answers.json\n"
     ]
    },
    {
     "name": "stderr",
     "output_type": "stream",
     "text": [
      "Setting `pad_token_id` to `eos_token_id`:None for open-end generation.\n"
     ]
    },
    {
     "name": "stdout",
     "output_type": "stream",
     "text": [
      "Output saved to /home/smanylal/MidTermReport1/NLPFinal/New/legal_reasoning_with_answers.json\n"
     ]
    },
    {
     "name": "stderr",
     "output_type": "stream",
     "text": [
      "Setting `pad_token_id` to `eos_token_id`:None for open-end generation.\n"
     ]
    },
    {
     "name": "stdout",
     "output_type": "stream",
     "text": [
      "Output saved to /home/smanylal/MidTermReport1/NLPFinal/New/legal_reasoning_with_answers.json\n"
     ]
    },
    {
     "name": "stderr",
     "output_type": "stream",
     "text": [
      "Setting `pad_token_id` to `eos_token_id`:None for open-end generation.\n"
     ]
    },
    {
     "name": "stdout",
     "output_type": "stream",
     "text": [
      "Output saved to /home/smanylal/MidTermReport1/NLPFinal/New/legal_reasoning_with_answers.json\n"
     ]
    },
    {
     "name": "stderr",
     "output_type": "stream",
     "text": [
      "Setting `pad_token_id` to `eos_token_id`:None for open-end generation.\n"
     ]
    },
    {
     "name": "stdout",
     "output_type": "stream",
     "text": [
      "Output saved to /home/smanylal/MidTermReport1/NLPFinal/New/legal_reasoning_with_answers.json\n"
     ]
    },
    {
     "name": "stderr",
     "output_type": "stream",
     "text": [
      "Setting `pad_token_id` to `eos_token_id`:None for open-end generation.\n"
     ]
    },
    {
     "name": "stdout",
     "output_type": "stream",
     "text": [
      "Output saved to /home/smanylal/MidTermReport1/NLPFinal/New/legal_reasoning_with_answers.json\n"
     ]
    },
    {
     "name": "stderr",
     "output_type": "stream",
     "text": [
      "Setting `pad_token_id` to `eos_token_id`:None for open-end generation.\n"
     ]
    },
    {
     "name": "stdout",
     "output_type": "stream",
     "text": [
      "Output saved to /home/smanylal/MidTermReport1/NLPFinal/New/legal_reasoning_with_answers.json\n"
     ]
    },
    {
     "name": "stderr",
     "output_type": "stream",
     "text": [
      "Setting `pad_token_id` to `eos_token_id`:None for open-end generation.\n"
     ]
    },
    {
     "name": "stdout",
     "output_type": "stream",
     "text": [
      "Output saved to /home/smanylal/MidTermReport1/NLPFinal/New/legal_reasoning_with_answers.json\n"
     ]
    },
    {
     "name": "stderr",
     "output_type": "stream",
     "text": [
      "Setting `pad_token_id` to `eos_token_id`:None for open-end generation.\n"
     ]
    },
    {
     "name": "stdout",
     "output_type": "stream",
     "text": [
      "Output saved to /home/smanylal/MidTermReport1/NLPFinal/New/legal_reasoning_with_answers.json\n"
     ]
    },
    {
     "name": "stderr",
     "output_type": "stream",
     "text": [
      "Setting `pad_token_id` to `eos_token_id`:None for open-end generation.\n"
     ]
    },
    {
     "name": "stdout",
     "output_type": "stream",
     "text": [
      "Output saved to /home/smanylal/MidTermReport1/NLPFinal/New/legal_reasoning_with_answers.json\n"
     ]
    },
    {
     "name": "stderr",
     "output_type": "stream",
     "text": [
      "Setting `pad_token_id` to `eos_token_id`:None for open-end generation.\n"
     ]
    },
    {
     "name": "stdout",
     "output_type": "stream",
     "text": [
      "Output saved to /home/smanylal/MidTermReport1/NLPFinal/New/legal_reasoning_with_answers.json\n"
     ]
    },
    {
     "name": "stderr",
     "output_type": "stream",
     "text": [
      "Setting `pad_token_id` to `eos_token_id`:None for open-end generation.\n"
     ]
    },
    {
     "name": "stdout",
     "output_type": "stream",
     "text": [
      "Output saved to /home/smanylal/MidTermReport1/NLPFinal/New/legal_reasoning_with_answers.json\n"
     ]
    },
    {
     "name": "stderr",
     "output_type": "stream",
     "text": [
      "Setting `pad_token_id` to `eos_token_id`:None for open-end generation.\n"
     ]
    },
    {
     "name": "stdout",
     "output_type": "stream",
     "text": [
      "Output saved to /home/smanylal/MidTermReport1/NLPFinal/New/legal_reasoning_with_answers.json\n"
     ]
    },
    {
     "name": "stderr",
     "output_type": "stream",
     "text": [
      "Setting `pad_token_id` to `eos_token_id`:None for open-end generation.\n"
     ]
    },
    {
     "name": "stdout",
     "output_type": "stream",
     "text": [
      "Output saved to /home/smanylal/MidTermReport1/NLPFinal/New/legal_reasoning_with_answers.json\n"
     ]
    },
    {
     "name": "stderr",
     "output_type": "stream",
     "text": [
      "Setting `pad_token_id` to `eos_token_id`:None for open-end generation.\n"
     ]
    },
    {
     "name": "stdout",
     "output_type": "stream",
     "text": [
      "Output saved to /home/smanylal/MidTermReport1/NLPFinal/New/legal_reasoning_with_answers.json\n"
     ]
    },
    {
     "name": "stderr",
     "output_type": "stream",
     "text": [
      "Setting `pad_token_id` to `eos_token_id`:None for open-end generation.\n"
     ]
    },
    {
     "name": "stdout",
     "output_type": "stream",
     "text": [
      "Output saved to /home/smanylal/MidTermReport1/NLPFinal/New/legal_reasoning_with_answers.json\n"
     ]
    },
    {
     "name": "stderr",
     "output_type": "stream",
     "text": [
      "Setting `pad_token_id` to `eos_token_id`:None for open-end generation.\n"
     ]
    },
    {
     "name": "stdout",
     "output_type": "stream",
     "text": [
      "Output saved to /home/smanylal/MidTermReport1/NLPFinal/New/legal_reasoning_with_answers.json\n"
     ]
    },
    {
     "name": "stderr",
     "output_type": "stream",
     "text": [
      "Setting `pad_token_id` to `eos_token_id`:None for open-end generation.\n"
     ]
    },
    {
     "name": "stdout",
     "output_type": "stream",
     "text": [
      "Output saved to /home/smanylal/MidTermReport1/NLPFinal/New/legal_reasoning_with_answers.json\n"
     ]
    },
    {
     "name": "stderr",
     "output_type": "stream",
     "text": [
      "Setting `pad_token_id` to `eos_token_id`:None for open-end generation.\n"
     ]
    },
    {
     "name": "stdout",
     "output_type": "stream",
     "text": [
      "Output saved to /home/smanylal/MidTermReport1/NLPFinal/New/legal_reasoning_with_answers.json\n"
     ]
    },
    {
     "name": "stderr",
     "output_type": "stream",
     "text": [
      "Setting `pad_token_id` to `eos_token_id`:None for open-end generation.\n"
     ]
    },
    {
     "name": "stdout",
     "output_type": "stream",
     "text": [
      "Output saved to /home/smanylal/MidTermReport1/NLPFinal/New/legal_reasoning_with_answers.json\n"
     ]
    },
    {
     "name": "stderr",
     "output_type": "stream",
     "text": [
      "Setting `pad_token_id` to `eos_token_id`:None for open-end generation.\n"
     ]
    },
    {
     "name": "stdout",
     "output_type": "stream",
     "text": [
      "Output saved to /home/smanylal/MidTermReport1/NLPFinal/New/legal_reasoning_with_answers.json\n"
     ]
    },
    {
     "name": "stderr",
     "output_type": "stream",
     "text": [
      "Setting `pad_token_id` to `eos_token_id`:None for open-end generation.\n"
     ]
    },
    {
     "name": "stdout",
     "output_type": "stream",
     "text": [
      "Output saved to /home/smanylal/MidTermReport1/NLPFinal/New/legal_reasoning_with_answers.json\n"
     ]
    },
    {
     "name": "stderr",
     "output_type": "stream",
     "text": [
      "Setting `pad_token_id` to `eos_token_id`:None for open-end generation.\n"
     ]
    },
    {
     "name": "stdout",
     "output_type": "stream",
     "text": [
      "Output saved to /home/smanylal/MidTermReport1/NLPFinal/New/legal_reasoning_with_answers.json\n"
     ]
    },
    {
     "name": "stderr",
     "output_type": "stream",
     "text": [
      "Setting `pad_token_id` to `eos_token_id`:None for open-end generation.\n"
     ]
    },
    {
     "name": "stdout",
     "output_type": "stream",
     "text": [
      "Output saved to /home/smanylal/MidTermReport1/NLPFinal/New/legal_reasoning_with_answers.json\n"
     ]
    },
    {
     "name": "stderr",
     "output_type": "stream",
     "text": [
      "Setting `pad_token_id` to `eos_token_id`:None for open-end generation.\n"
     ]
    },
    {
     "name": "stdout",
     "output_type": "stream",
     "text": [
      "Output saved to /home/smanylal/MidTermReport1/NLPFinal/New/legal_reasoning_with_answers.json\n"
     ]
    },
    {
     "name": "stderr",
     "output_type": "stream",
     "text": [
      "Setting `pad_token_id` to `eos_token_id`:None for open-end generation.\n"
     ]
    },
    {
     "name": "stdout",
     "output_type": "stream",
     "text": [
      "Output saved to /home/smanylal/MidTermReport1/NLPFinal/New/legal_reasoning_with_answers.json\n"
     ]
    },
    {
     "name": "stderr",
     "output_type": "stream",
     "text": [
      "Setting `pad_token_id` to `eos_token_id`:None for open-end generation.\n"
     ]
    },
    {
     "name": "stdout",
     "output_type": "stream",
     "text": [
      "Output saved to /home/smanylal/MidTermReport1/NLPFinal/New/legal_reasoning_with_answers.json\n"
     ]
    },
    {
     "name": "stderr",
     "output_type": "stream",
     "text": [
      "Setting `pad_token_id` to `eos_token_id`:None for open-end generation.\n"
     ]
    },
    {
     "name": "stdout",
     "output_type": "stream",
     "text": [
      "Output saved to /home/smanylal/MidTermReport1/NLPFinal/New/legal_reasoning_with_answers.json\n"
     ]
    },
    {
     "name": "stderr",
     "output_type": "stream",
     "text": [
      "Setting `pad_token_id` to `eos_token_id`:None for open-end generation.\n"
     ]
    },
    {
     "name": "stdout",
     "output_type": "stream",
     "text": [
      "Output saved to /home/smanylal/MidTermReport1/NLPFinal/New/legal_reasoning_with_answers.json\n"
     ]
    },
    {
     "name": "stderr",
     "output_type": "stream",
     "text": [
      "Setting `pad_token_id` to `eos_token_id`:None for open-end generation.\n"
     ]
    },
    {
     "name": "stdout",
     "output_type": "stream",
     "text": [
      "Output saved to /home/smanylal/MidTermReport1/NLPFinal/New/legal_reasoning_with_answers.json\n"
     ]
    },
    {
     "name": "stderr",
     "output_type": "stream",
     "text": [
      "Setting `pad_token_id` to `eos_token_id`:None for open-end generation.\n"
     ]
    },
    {
     "name": "stdout",
     "output_type": "stream",
     "text": [
      "Output saved to /home/smanylal/MidTermReport1/NLPFinal/New/legal_reasoning_with_answers.json\n"
     ]
    },
    {
     "name": "stderr",
     "output_type": "stream",
     "text": [
      "Setting `pad_token_id` to `eos_token_id`:None for open-end generation.\n"
     ]
    },
    {
     "name": "stdout",
     "output_type": "stream",
     "text": [
      "Output saved to /home/smanylal/MidTermReport1/NLPFinal/New/legal_reasoning_with_answers.json\n"
     ]
    },
    {
     "name": "stderr",
     "output_type": "stream",
     "text": [
      "Setting `pad_token_id` to `eos_token_id`:None for open-end generation.\n"
     ]
    },
    {
     "name": "stdout",
     "output_type": "stream",
     "text": [
      "Output saved to /home/smanylal/MidTermReport1/NLPFinal/New/legal_reasoning_with_answers.json\n"
     ]
    },
    {
     "name": "stderr",
     "output_type": "stream",
     "text": [
      "Setting `pad_token_id` to `eos_token_id`:None for open-end generation.\n"
     ]
    },
    {
     "name": "stdout",
     "output_type": "stream",
     "text": [
      "Output saved to /home/smanylal/MidTermReport1/NLPFinal/New/legal_reasoning_with_answers.json\n"
     ]
    },
    {
     "name": "stderr",
     "output_type": "stream",
     "text": [
      "Setting `pad_token_id` to `eos_token_id`:None for open-end generation.\n"
     ]
    },
    {
     "name": "stdout",
     "output_type": "stream",
     "text": [
      "Output saved to /home/smanylal/MidTermReport1/NLPFinal/New/legal_reasoning_with_answers.json\n"
     ]
    },
    {
     "name": "stderr",
     "output_type": "stream",
     "text": [
      "Setting `pad_token_id` to `eos_token_id`:None for open-end generation.\n"
     ]
    },
    {
     "name": "stdout",
     "output_type": "stream",
     "text": [
      "Output saved to /home/smanylal/MidTermReport1/NLPFinal/New/legal_reasoning_with_answers.json\n"
     ]
    },
    {
     "name": "stderr",
     "output_type": "stream",
     "text": [
      "Setting `pad_token_id` to `eos_token_id`:None for open-end generation.\n"
     ]
    },
    {
     "name": "stdout",
     "output_type": "stream",
     "text": [
      "Output saved to /home/smanylal/MidTermReport1/NLPFinal/New/legal_reasoning_with_answers.json\n"
     ]
    },
    {
     "name": "stderr",
     "output_type": "stream",
     "text": [
      "Setting `pad_token_id` to `eos_token_id`:None for open-end generation.\n"
     ]
    },
    {
     "name": "stdout",
     "output_type": "stream",
     "text": [
      "Output saved to /home/smanylal/MidTermReport1/NLPFinal/New/legal_reasoning_with_answers.json\n"
     ]
    },
    {
     "name": "stderr",
     "output_type": "stream",
     "text": [
      "Setting `pad_token_id` to `eos_token_id`:None for open-end generation.\n"
     ]
    },
    {
     "name": "stdout",
     "output_type": "stream",
     "text": [
      "Output saved to /home/smanylal/MidTermReport1/NLPFinal/New/legal_reasoning_with_answers.json\n"
     ]
    },
    {
     "name": "stderr",
     "output_type": "stream",
     "text": [
      "Setting `pad_token_id` to `eos_token_id`:None for open-end generation.\n"
     ]
    },
    {
     "name": "stdout",
     "output_type": "stream",
     "text": [
      "Output saved to /home/smanylal/MidTermReport1/NLPFinal/New/legal_reasoning_with_answers.json\n"
     ]
    },
    {
     "name": "stderr",
     "output_type": "stream",
     "text": [
      "Setting `pad_token_id` to `eos_token_id`:None for open-end generation.\n"
     ]
    },
    {
     "name": "stdout",
     "output_type": "stream",
     "text": [
      "Output saved to /home/smanylal/MidTermReport1/NLPFinal/New/legal_reasoning_with_answers.json\n"
     ]
    },
    {
     "name": "stderr",
     "output_type": "stream",
     "text": [
      "Setting `pad_token_id` to `eos_token_id`:None for open-end generation.\n"
     ]
    },
    {
     "name": "stdout",
     "output_type": "stream",
     "text": [
      "Output saved to /home/smanylal/MidTermReport1/NLPFinal/New/legal_reasoning_with_answers.json\n"
     ]
    },
    {
     "name": "stderr",
     "output_type": "stream",
     "text": [
      "Setting `pad_token_id` to `eos_token_id`:None for open-end generation.\n"
     ]
    },
    {
     "name": "stdout",
     "output_type": "stream",
     "text": [
      "Output saved to /home/smanylal/MidTermReport1/NLPFinal/New/legal_reasoning_with_answers.json\n"
     ]
    },
    {
     "name": "stderr",
     "output_type": "stream",
     "text": [
      "Setting `pad_token_id` to `eos_token_id`:None for open-end generation.\n"
     ]
    },
    {
     "name": "stdout",
     "output_type": "stream",
     "text": [
      "Output saved to /home/smanylal/MidTermReport1/NLPFinal/New/legal_reasoning_with_answers.json\n"
     ]
    },
    {
     "name": "stderr",
     "output_type": "stream",
     "text": [
      "Setting `pad_token_id` to `eos_token_id`:None for open-end generation.\n"
     ]
    },
    {
     "name": "stdout",
     "output_type": "stream",
     "text": [
      "Output saved to /home/smanylal/MidTermReport1/NLPFinal/New/legal_reasoning_with_answers.json\n"
     ]
    },
    {
     "name": "stderr",
     "output_type": "stream",
     "text": [
      "Setting `pad_token_id` to `eos_token_id`:None for open-end generation.\n"
     ]
    },
    {
     "name": "stdout",
     "output_type": "stream",
     "text": [
      "Output saved to /home/smanylal/MidTermReport1/NLPFinal/New/legal_reasoning_with_answers.json\n"
     ]
    },
    {
     "name": "stderr",
     "output_type": "stream",
     "text": [
      "Setting `pad_token_id` to `eos_token_id`:None for open-end generation.\n"
     ]
    },
    {
     "name": "stdout",
     "output_type": "stream",
     "text": [
      "Output saved to /home/smanylal/MidTermReport1/NLPFinal/New/legal_reasoning_with_answers.json\n"
     ]
    },
    {
     "name": "stderr",
     "output_type": "stream",
     "text": [
      "Setting `pad_token_id` to `eos_token_id`:None for open-end generation.\n"
     ]
    },
    {
     "name": "stdout",
     "output_type": "stream",
     "text": [
      "Output saved to /home/smanylal/MidTermReport1/NLPFinal/New/legal_reasoning_with_answers.json\n"
     ]
    },
    {
     "name": "stderr",
     "output_type": "stream",
     "text": [
      "Setting `pad_token_id` to `eos_token_id`:None for open-end generation.\n"
     ]
    },
    {
     "name": "stdout",
     "output_type": "stream",
     "text": [
      "Output saved to /home/smanylal/MidTermReport1/NLPFinal/New/legal_reasoning_with_answers.json\n"
     ]
    },
    {
     "name": "stderr",
     "output_type": "stream",
     "text": [
      "Setting `pad_token_id` to `eos_token_id`:None for open-end generation.\n"
     ]
    },
    {
     "name": "stdout",
     "output_type": "stream",
     "text": [
      "Output saved to /home/smanylal/MidTermReport1/NLPFinal/New/legal_reasoning_with_answers.json\n"
     ]
    },
    {
     "name": "stderr",
     "output_type": "stream",
     "text": [
      "Setting `pad_token_id` to `eos_token_id`:None for open-end generation.\n"
     ]
    },
    {
     "name": "stdout",
     "output_type": "stream",
     "text": [
      "Output saved to /home/smanylal/MidTermReport1/NLPFinal/New/legal_reasoning_with_answers.json\n"
     ]
    },
    {
     "name": "stderr",
     "output_type": "stream",
     "text": [
      "Setting `pad_token_id` to `eos_token_id`:None for open-end generation.\n"
     ]
    },
    {
     "name": "stdout",
     "output_type": "stream",
     "text": [
      "Output saved to /home/smanylal/MidTermReport1/NLPFinal/New/legal_reasoning_with_answers.json\n"
     ]
    },
    {
     "name": "stderr",
     "output_type": "stream",
     "text": [
      "Setting `pad_token_id` to `eos_token_id`:None for open-end generation.\n"
     ]
    },
    {
     "name": "stdout",
     "output_type": "stream",
     "text": [
      "Output saved to /home/smanylal/MidTermReport1/NLPFinal/New/legal_reasoning_with_answers.json\n"
     ]
    },
    {
     "name": "stderr",
     "output_type": "stream",
     "text": [
      "Setting `pad_token_id` to `eos_token_id`:None for open-end generation.\n"
     ]
    },
    {
     "name": "stdout",
     "output_type": "stream",
     "text": [
      "Output saved to /home/smanylal/MidTermReport1/NLPFinal/New/legal_reasoning_with_answers.json\n"
     ]
    },
    {
     "name": "stderr",
     "output_type": "stream",
     "text": [
      "Setting `pad_token_id` to `eos_token_id`:None for open-end generation.\n"
     ]
    },
    {
     "name": "stdout",
     "output_type": "stream",
     "text": [
      "Output saved to /home/smanylal/MidTermReport1/NLPFinal/New/legal_reasoning_with_answers.json\n"
     ]
    },
    {
     "name": "stderr",
     "output_type": "stream",
     "text": [
      "Setting `pad_token_id` to `eos_token_id`:None for open-end generation.\n"
     ]
    },
    {
     "name": "stdout",
     "output_type": "stream",
     "text": [
      "Output saved to /home/smanylal/MidTermReport1/NLPFinal/New/legal_reasoning_with_answers.json\n"
     ]
    },
    {
     "name": "stderr",
     "output_type": "stream",
     "text": [
      "Setting `pad_token_id` to `eos_token_id`:None for open-end generation.\n"
     ]
    },
    {
     "name": "stdout",
     "output_type": "stream",
     "text": [
      "Output saved to /home/smanylal/MidTermReport1/NLPFinal/New/legal_reasoning_with_answers.json\n"
     ]
    },
    {
     "name": "stderr",
     "output_type": "stream",
     "text": [
      "Setting `pad_token_id` to `eos_token_id`:None for open-end generation.\n"
     ]
    },
    {
     "name": "stdout",
     "output_type": "stream",
     "text": [
      "Output saved to /home/smanylal/MidTermReport1/NLPFinal/New/legal_reasoning_with_answers.json\n"
     ]
    },
    {
     "name": "stderr",
     "output_type": "stream",
     "text": [
      "Setting `pad_token_id` to `eos_token_id`:None for open-end generation.\n"
     ]
    },
    {
     "name": "stdout",
     "output_type": "stream",
     "text": [
      "Output saved to /home/smanylal/MidTermReport1/NLPFinal/New/legal_reasoning_with_answers.json\n"
     ]
    },
    {
     "name": "stderr",
     "output_type": "stream",
     "text": [
      "Setting `pad_token_id` to `eos_token_id`:None for open-end generation.\n"
     ]
    },
    {
     "name": "stdout",
     "output_type": "stream",
     "text": [
      "Output saved to /home/smanylal/MidTermReport1/NLPFinal/New/legal_reasoning_with_answers.json\n"
     ]
    },
    {
     "name": "stderr",
     "output_type": "stream",
     "text": [
      "Setting `pad_token_id` to `eos_token_id`:None for open-end generation.\n"
     ]
    },
    {
     "name": "stdout",
     "output_type": "stream",
     "text": [
      "Output saved to /home/smanylal/MidTermReport1/NLPFinal/New/legal_reasoning_with_answers.json\n"
     ]
    },
    {
     "name": "stderr",
     "output_type": "stream",
     "text": [
      "Setting `pad_token_id` to `eos_token_id`:None for open-end generation.\n"
     ]
    },
    {
     "name": "stdout",
     "output_type": "stream",
     "text": [
      "Output saved to /home/smanylal/MidTermReport1/NLPFinal/New/legal_reasoning_with_answers.json\n"
     ]
    },
    {
     "name": "stderr",
     "output_type": "stream",
     "text": [
      "Setting `pad_token_id` to `eos_token_id`:None for open-end generation.\n"
     ]
    },
    {
     "name": "stdout",
     "output_type": "stream",
     "text": [
      "Output saved to /home/smanylal/MidTermReport1/NLPFinal/New/legal_reasoning_with_answers.json\n"
     ]
    },
    {
     "name": "stderr",
     "output_type": "stream",
     "text": [
      "Setting `pad_token_id` to `eos_token_id`:None for open-end generation.\n"
     ]
    },
    {
     "name": "stdout",
     "output_type": "stream",
     "text": [
      "Output saved to /home/smanylal/MidTermReport1/NLPFinal/New/legal_reasoning_with_answers.json\n"
     ]
    },
    {
     "name": "stderr",
     "output_type": "stream",
     "text": [
      "Setting `pad_token_id` to `eos_token_id`:None for open-end generation.\n"
     ]
    },
    {
     "name": "stdout",
     "output_type": "stream",
     "text": [
      "Output saved to /home/smanylal/MidTermReport1/NLPFinal/New/legal_reasoning_with_answers.json\n"
     ]
    },
    {
     "name": "stderr",
     "output_type": "stream",
     "text": [
      "Setting `pad_token_id` to `eos_token_id`:None for open-end generation.\n"
     ]
    },
    {
     "name": "stdout",
     "output_type": "stream",
     "text": [
      "Output saved to /home/smanylal/MidTermReport1/NLPFinal/New/legal_reasoning_with_answers.json\n"
     ]
    },
    {
     "name": "stderr",
     "output_type": "stream",
     "text": [
      "Setting `pad_token_id` to `eos_token_id`:None for open-end generation.\n"
     ]
    },
    {
     "name": "stdout",
     "output_type": "stream",
     "text": [
      "Output saved to /home/smanylal/MidTermReport1/NLPFinal/New/legal_reasoning_with_answers.json\n"
     ]
    },
    {
     "name": "stderr",
     "output_type": "stream",
     "text": [
      "Setting `pad_token_id` to `eos_token_id`:None for open-end generation.\n"
     ]
    },
    {
     "name": "stdout",
     "output_type": "stream",
     "text": [
      "Output saved to /home/smanylal/MidTermReport1/NLPFinal/New/legal_reasoning_with_answers.json\n"
     ]
    },
    {
     "name": "stderr",
     "output_type": "stream",
     "text": [
      "Setting `pad_token_id` to `eos_token_id`:None for open-end generation.\n"
     ]
    },
    {
     "name": "stdout",
     "output_type": "stream",
     "text": [
      "Output saved to /home/smanylal/MidTermReport1/NLPFinal/New/legal_reasoning_with_answers.json\n"
     ]
    },
    {
     "name": "stderr",
     "output_type": "stream",
     "text": [
      "Setting `pad_token_id` to `eos_token_id`:None for open-end generation.\n"
     ]
    },
    {
     "name": "stdout",
     "output_type": "stream",
     "text": [
      "Output saved to /home/smanylal/MidTermReport1/NLPFinal/New/legal_reasoning_with_answers.json\n"
     ]
    },
    {
     "name": "stderr",
     "output_type": "stream",
     "text": [
      "Setting `pad_token_id` to `eos_token_id`:None for open-end generation.\n"
     ]
    },
    {
     "name": "stdout",
     "output_type": "stream",
     "text": [
      "Output saved to /home/smanylal/MidTermReport1/NLPFinal/New/legal_reasoning_with_answers.json\n"
     ]
    },
    {
     "name": "stderr",
     "output_type": "stream",
     "text": [
      "Setting `pad_token_id` to `eos_token_id`:None for open-end generation.\n"
     ]
    },
    {
     "name": "stdout",
     "output_type": "stream",
     "text": [
      "Output saved to /home/smanylal/MidTermReport1/NLPFinal/New/legal_reasoning_with_answers.json\n"
     ]
    },
    {
     "name": "stderr",
     "output_type": "stream",
     "text": [
      "Setting `pad_token_id` to `eos_token_id`:None for open-end generation.\n"
     ]
    },
    {
     "name": "stdout",
     "output_type": "stream",
     "text": [
      "Output saved to /home/smanylal/MidTermReport1/NLPFinal/New/legal_reasoning_with_answers.json\n"
     ]
    },
    {
     "name": "stderr",
     "output_type": "stream",
     "text": [
      "Setting `pad_token_id` to `eos_token_id`:None for open-end generation.\n"
     ]
    },
    {
     "name": "stdout",
     "output_type": "stream",
     "text": [
      "Output saved to /home/smanylal/MidTermReport1/NLPFinal/New/legal_reasoning_with_answers.json\n"
     ]
    },
    {
     "name": "stderr",
     "output_type": "stream",
     "text": [
      "Setting `pad_token_id` to `eos_token_id`:None for open-end generation.\n"
     ]
    },
    {
     "name": "stdout",
     "output_type": "stream",
     "text": [
      "Output saved to /home/smanylal/MidTermReport1/NLPFinal/New/legal_reasoning_with_answers.json\n"
     ]
    },
    {
     "name": "stderr",
     "output_type": "stream",
     "text": [
      "Setting `pad_token_id` to `eos_token_id`:None for open-end generation.\n"
     ]
    },
    {
     "name": "stdout",
     "output_type": "stream",
     "text": [
      "Output saved to /home/smanylal/MidTermReport1/NLPFinal/New/legal_reasoning_with_answers.json\n"
     ]
    },
    {
     "name": "stderr",
     "output_type": "stream",
     "text": [
      "Setting `pad_token_id` to `eos_token_id`:None for open-end generation.\n"
     ]
    },
    {
     "name": "stdout",
     "output_type": "stream",
     "text": [
      "Output saved to /home/smanylal/MidTermReport1/NLPFinal/New/legal_reasoning_with_answers.json\n"
     ]
    },
    {
     "name": "stderr",
     "output_type": "stream",
     "text": [
      "Setting `pad_token_id` to `eos_token_id`:None for open-end generation.\n"
     ]
    },
    {
     "name": "stdout",
     "output_type": "stream",
     "text": [
      "Output saved to /home/smanylal/MidTermReport1/NLPFinal/New/legal_reasoning_with_answers.json\n"
     ]
    },
    {
     "name": "stderr",
     "output_type": "stream",
     "text": [
      "Setting `pad_token_id` to `eos_token_id`:None for open-end generation.\n"
     ]
    },
    {
     "name": "stdout",
     "output_type": "stream",
     "text": [
      "Output saved to /home/smanylal/MidTermReport1/NLPFinal/New/legal_reasoning_with_answers.json\n"
     ]
    },
    {
     "name": "stderr",
     "output_type": "stream",
     "text": [
      "Setting `pad_token_id` to `eos_token_id`:None for open-end generation.\n"
     ]
    },
    {
     "name": "stdout",
     "output_type": "stream",
     "text": [
      "Output saved to /home/smanylal/MidTermReport1/NLPFinal/New/legal_reasoning_with_answers.json\n"
     ]
    },
    {
     "name": "stderr",
     "output_type": "stream",
     "text": [
      "Setting `pad_token_id` to `eos_token_id`:None for open-end generation.\n"
     ]
    },
    {
     "name": "stdout",
     "output_type": "stream",
     "text": [
      "Output saved to /home/smanylal/MidTermReport1/NLPFinal/New/legal_reasoning_with_answers.json\n"
     ]
    },
    {
     "name": "stderr",
     "output_type": "stream",
     "text": [
      "Setting `pad_token_id` to `eos_token_id`:None for open-end generation.\n"
     ]
    },
    {
     "name": "stdout",
     "output_type": "stream",
     "text": [
      "Output saved to /home/smanylal/MidTermReport1/NLPFinal/New/legal_reasoning_with_answers.json\n"
     ]
    },
    {
     "name": "stderr",
     "output_type": "stream",
     "text": [
      "Setting `pad_token_id` to `eos_token_id`:None for open-end generation.\n"
     ]
    },
    {
     "name": "stdout",
     "output_type": "stream",
     "text": [
      "Output saved to /home/smanylal/MidTermReport1/NLPFinal/New/legal_reasoning_with_answers.json\n"
     ]
    },
    {
     "name": "stderr",
     "output_type": "stream",
     "text": [
      "Setting `pad_token_id` to `eos_token_id`:None for open-end generation.\n"
     ]
    },
    {
     "name": "stdout",
     "output_type": "stream",
     "text": [
      "Output saved to /home/smanylal/MidTermReport1/NLPFinal/New/legal_reasoning_with_answers.json\n"
     ]
    },
    {
     "name": "stderr",
     "output_type": "stream",
     "text": [
      "Setting `pad_token_id` to `eos_token_id`:None for open-end generation.\n"
     ]
    },
    {
     "name": "stdout",
     "output_type": "stream",
     "text": [
      "Output saved to /home/smanylal/MidTermReport1/NLPFinal/New/legal_reasoning_with_answers.json\n"
     ]
    },
    {
     "name": "stderr",
     "output_type": "stream",
     "text": [
      "Setting `pad_token_id` to `eos_token_id`:None for open-end generation.\n"
     ]
    },
    {
     "name": "stdout",
     "output_type": "stream",
     "text": [
      "Output saved to /home/smanylal/MidTermReport1/NLPFinal/New/legal_reasoning_with_answers.json\n"
     ]
    },
    {
     "name": "stderr",
     "output_type": "stream",
     "text": [
      "Setting `pad_token_id` to `eos_token_id`:None for open-end generation.\n"
     ]
    },
    {
     "name": "stdout",
     "output_type": "stream",
     "text": [
      "Output saved to /home/smanylal/MidTermReport1/NLPFinal/New/legal_reasoning_with_answers.json\n"
     ]
    },
    {
     "name": "stderr",
     "output_type": "stream",
     "text": [
      "Setting `pad_token_id` to `eos_token_id`:None for open-end generation.\n"
     ]
    },
    {
     "name": "stdout",
     "output_type": "stream",
     "text": [
      "Output saved to /home/smanylal/MidTermReport1/NLPFinal/New/legal_reasoning_with_answers.json\n"
     ]
    },
    {
     "name": "stderr",
     "output_type": "stream",
     "text": [
      "Setting `pad_token_id` to `eos_token_id`:None for open-end generation.\n"
     ]
    },
    {
     "name": "stdout",
     "output_type": "stream",
     "text": [
      "Output saved to /home/smanylal/MidTermReport1/NLPFinal/New/legal_reasoning_with_answers.json\n"
     ]
    },
    {
     "name": "stderr",
     "output_type": "stream",
     "text": [
      "Setting `pad_token_id` to `eos_token_id`:None for open-end generation.\n"
     ]
    },
    {
     "name": "stdout",
     "output_type": "stream",
     "text": [
      "Output saved to /home/smanylal/MidTermReport1/NLPFinal/New/legal_reasoning_with_answers.json\n"
     ]
    },
    {
     "name": "stderr",
     "output_type": "stream",
     "text": [
      "Setting `pad_token_id` to `eos_token_id`:None for open-end generation.\n"
     ]
    },
    {
     "name": "stdout",
     "output_type": "stream",
     "text": [
      "Output saved to /home/smanylal/MidTermReport1/NLPFinal/New/legal_reasoning_with_answers.json\n"
     ]
    },
    {
     "name": "stderr",
     "output_type": "stream",
     "text": [
      "Setting `pad_token_id` to `eos_token_id`:None for open-end generation.\n"
     ]
    },
    {
     "name": "stdout",
     "output_type": "stream",
     "text": [
      "Output saved to /home/smanylal/MidTermReport1/NLPFinal/New/legal_reasoning_with_answers.json\n"
     ]
    },
    {
     "name": "stderr",
     "output_type": "stream",
     "text": [
      "Setting `pad_token_id` to `eos_token_id`:None for open-end generation.\n"
     ]
    },
    {
     "name": "stdout",
     "output_type": "stream",
     "text": [
      "Output saved to /home/smanylal/MidTermReport1/NLPFinal/New/legal_reasoning_with_answers.json\n"
     ]
    },
    {
     "name": "stderr",
     "output_type": "stream",
     "text": [
      "Setting `pad_token_id` to `eos_token_id`:None for open-end generation.\n"
     ]
    },
    {
     "name": "stdout",
     "output_type": "stream",
     "text": [
      "Output saved to /home/smanylal/MidTermReport1/NLPFinal/New/legal_reasoning_with_answers.json\n"
     ]
    },
    {
     "name": "stderr",
     "output_type": "stream",
     "text": [
      "Setting `pad_token_id` to `eos_token_id`:None for open-end generation.\n"
     ]
    },
    {
     "name": "stdout",
     "output_type": "stream",
     "text": [
      "Output saved to /home/smanylal/MidTermReport1/NLPFinal/New/legal_reasoning_with_answers.json\n"
     ]
    },
    {
     "name": "stderr",
     "output_type": "stream",
     "text": [
      "Setting `pad_token_id` to `eos_token_id`:None for open-end generation.\n"
     ]
    },
    {
     "name": "stdout",
     "output_type": "stream",
     "text": [
      "Output saved to /home/smanylal/MidTermReport1/NLPFinal/New/legal_reasoning_with_answers.json\n"
     ]
    },
    {
     "name": "stderr",
     "output_type": "stream",
     "text": [
      "Setting `pad_token_id` to `eos_token_id`:None for open-end generation.\n"
     ]
    },
    {
     "name": "stdout",
     "output_type": "stream",
     "text": [
      "Output saved to /home/smanylal/MidTermReport1/NLPFinal/New/legal_reasoning_with_answers.json\n"
     ]
    },
    {
     "name": "stderr",
     "output_type": "stream",
     "text": [
      "Setting `pad_token_id` to `eos_token_id`:None for open-end generation.\n"
     ]
    },
    {
     "name": "stdout",
     "output_type": "stream",
     "text": [
      "Output saved to /home/smanylal/MidTermReport1/NLPFinal/New/legal_reasoning_with_answers.json\n"
     ]
    },
    {
     "name": "stderr",
     "output_type": "stream",
     "text": [
      "Setting `pad_token_id` to `eos_token_id`:None for open-end generation.\n"
     ]
    },
    {
     "name": "stdout",
     "output_type": "stream",
     "text": [
      "Output saved to /home/smanylal/MidTermReport1/NLPFinal/New/legal_reasoning_with_answers.json\n"
     ]
    },
    {
     "name": "stderr",
     "output_type": "stream",
     "text": [
      "Setting `pad_token_id` to `eos_token_id`:None for open-end generation.\n"
     ]
    },
    {
     "name": "stdout",
     "output_type": "stream",
     "text": [
      "Output saved to /home/smanylal/MidTermReport1/NLPFinal/New/legal_reasoning_with_answers.json\n"
     ]
    },
    {
     "name": "stderr",
     "output_type": "stream",
     "text": [
      "Setting `pad_token_id` to `eos_token_id`:None for open-end generation.\n"
     ]
    },
    {
     "name": "stdout",
     "output_type": "stream",
     "text": [
      "Output saved to /home/smanylal/MidTermReport1/NLPFinal/New/legal_reasoning_with_answers.json\n"
     ]
    },
    {
     "name": "stderr",
     "output_type": "stream",
     "text": [
      "Setting `pad_token_id` to `eos_token_id`:None for open-end generation.\n"
     ]
    },
    {
     "name": "stdout",
     "output_type": "stream",
     "text": [
      "Output saved to /home/smanylal/MidTermReport1/NLPFinal/New/legal_reasoning_with_answers.json\n"
     ]
    },
    {
     "name": "stderr",
     "output_type": "stream",
     "text": [
      "Setting `pad_token_id` to `eos_token_id`:None for open-end generation.\n"
     ]
    },
    {
     "name": "stdout",
     "output_type": "stream",
     "text": [
      "Output saved to /home/smanylal/MidTermReport1/NLPFinal/New/legal_reasoning_with_answers.json\n"
     ]
    },
    {
     "name": "stderr",
     "output_type": "stream",
     "text": [
      "Setting `pad_token_id` to `eos_token_id`:None for open-end generation.\n"
     ]
    },
    {
     "name": "stdout",
     "output_type": "stream",
     "text": [
      "Output saved to /home/smanylal/MidTermReport1/NLPFinal/New/legal_reasoning_with_answers.json\n"
     ]
    },
    {
     "name": "stderr",
     "output_type": "stream",
     "text": [
      "Setting `pad_token_id` to `eos_token_id`:None for open-end generation.\n"
     ]
    },
    {
     "name": "stdout",
     "output_type": "stream",
     "text": [
      "Output saved to /home/smanylal/MidTermReport1/NLPFinal/New/legal_reasoning_with_answers.json\n"
     ]
    },
    {
     "name": "stderr",
     "output_type": "stream",
     "text": [
      "Setting `pad_token_id` to `eos_token_id`:None for open-end generation.\n"
     ]
    },
    {
     "name": "stdout",
     "output_type": "stream",
     "text": [
      "Output saved to /home/smanylal/MidTermReport1/NLPFinal/New/legal_reasoning_with_answers.json\n"
     ]
    },
    {
     "name": "stderr",
     "output_type": "stream",
     "text": [
      "Setting `pad_token_id` to `eos_token_id`:None for open-end generation.\n"
     ]
    },
    {
     "name": "stdout",
     "output_type": "stream",
     "text": [
      "Output saved to /home/smanylal/MidTermReport1/NLPFinal/New/legal_reasoning_with_answers.json\n"
     ]
    },
    {
     "name": "stderr",
     "output_type": "stream",
     "text": [
      "Setting `pad_token_id` to `eos_token_id`:None for open-end generation.\n"
     ]
    },
    {
     "name": "stdout",
     "output_type": "stream",
     "text": [
      "Output saved to /home/smanylal/MidTermReport1/NLPFinal/New/legal_reasoning_with_answers.json\n"
     ]
    },
    {
     "name": "stderr",
     "output_type": "stream",
     "text": [
      "Setting `pad_token_id` to `eos_token_id`:None for open-end generation.\n"
     ]
    },
    {
     "name": "stdout",
     "output_type": "stream",
     "text": [
      "Output saved to /home/smanylal/MidTermReport1/NLPFinal/New/legal_reasoning_with_answers.json\n"
     ]
    },
    {
     "name": "stderr",
     "output_type": "stream",
     "text": [
      "Setting `pad_token_id` to `eos_token_id`:None for open-end generation.\n"
     ]
    },
    {
     "name": "stdout",
     "output_type": "stream",
     "text": [
      "Output saved to /home/smanylal/MidTermReport1/NLPFinal/New/legal_reasoning_with_answers.json\n"
     ]
    },
    {
     "name": "stderr",
     "output_type": "stream",
     "text": [
      "Setting `pad_token_id` to `eos_token_id`:None for open-end generation.\n"
     ]
    },
    {
     "name": "stdout",
     "output_type": "stream",
     "text": [
      "Output saved to /home/smanylal/MidTermReport1/NLPFinal/New/legal_reasoning_with_answers.json\n"
     ]
    },
    {
     "name": "stderr",
     "output_type": "stream",
     "text": [
      "Setting `pad_token_id` to `eos_token_id`:None for open-end generation.\n"
     ]
    },
    {
     "name": "stdout",
     "output_type": "stream",
     "text": [
      "Output saved to /home/smanylal/MidTermReport1/NLPFinal/New/legal_reasoning_with_answers.json\n"
     ]
    },
    {
     "name": "stderr",
     "output_type": "stream",
     "text": [
      "Setting `pad_token_id` to `eos_token_id`:None for open-end generation.\n"
     ]
    },
    {
     "name": "stdout",
     "output_type": "stream",
     "text": [
      "Output saved to /home/smanylal/MidTermReport1/NLPFinal/New/legal_reasoning_with_answers.json\n"
     ]
    },
    {
     "name": "stderr",
     "output_type": "stream",
     "text": [
      "Setting `pad_token_id` to `eos_token_id`:None for open-end generation.\n"
     ]
    },
    {
     "name": "stdout",
     "output_type": "stream",
     "text": [
      "Output saved to /home/smanylal/MidTermReport1/NLPFinal/New/legal_reasoning_with_answers.json\n"
     ]
    },
    {
     "name": "stderr",
     "output_type": "stream",
     "text": [
      "Setting `pad_token_id` to `eos_token_id`:None for open-end generation.\n"
     ]
    },
    {
     "name": "stdout",
     "output_type": "stream",
     "text": [
      "Output saved to /home/smanylal/MidTermReport1/NLPFinal/New/legal_reasoning_with_answers.json\n"
     ]
    },
    {
     "name": "stderr",
     "output_type": "stream",
     "text": [
      "Setting `pad_token_id` to `eos_token_id`:None for open-end generation.\n"
     ]
    },
    {
     "name": "stdout",
     "output_type": "stream",
     "text": [
      "Output saved to /home/smanylal/MidTermReport1/NLPFinal/New/legal_reasoning_with_answers.json\n"
     ]
    },
    {
     "name": "stderr",
     "output_type": "stream",
     "text": [
      "Setting `pad_token_id` to `eos_token_id`:None for open-end generation.\n"
     ]
    },
    {
     "name": "stdout",
     "output_type": "stream",
     "text": [
      "Output saved to /home/smanylal/MidTermReport1/NLPFinal/New/legal_reasoning_with_answers.json\n"
     ]
    },
    {
     "name": "stderr",
     "output_type": "stream",
     "text": [
      "Setting `pad_token_id` to `eos_token_id`:None for open-end generation.\n"
     ]
    },
    {
     "name": "stdout",
     "output_type": "stream",
     "text": [
      "Output saved to /home/smanylal/MidTermReport1/NLPFinal/New/legal_reasoning_with_answers.json\n"
     ]
    },
    {
     "name": "stderr",
     "output_type": "stream",
     "text": [
      "Setting `pad_token_id` to `eos_token_id`:None for open-end generation.\n"
     ]
    },
    {
     "name": "stdout",
     "output_type": "stream",
     "text": [
      "Output saved to /home/smanylal/MidTermReport1/NLPFinal/New/legal_reasoning_with_answers.json\n"
     ]
    },
    {
     "name": "stderr",
     "output_type": "stream",
     "text": [
      "Setting `pad_token_id` to `eos_token_id`:None for open-end generation.\n"
     ]
    },
    {
     "name": "stdout",
     "output_type": "stream",
     "text": [
      "Output saved to /home/smanylal/MidTermReport1/NLPFinal/New/legal_reasoning_with_answers.json\n"
     ]
    },
    {
     "name": "stderr",
     "output_type": "stream",
     "text": [
      "Setting `pad_token_id` to `eos_token_id`:None for open-end generation.\n"
     ]
    },
    {
     "name": "stdout",
     "output_type": "stream",
     "text": [
      "Output saved to /home/smanylal/MidTermReport1/NLPFinal/New/legal_reasoning_with_answers.json\n"
     ]
    },
    {
     "name": "stderr",
     "output_type": "stream",
     "text": [
      "Setting `pad_token_id` to `eos_token_id`:None for open-end generation.\n"
     ]
    },
    {
     "name": "stdout",
     "output_type": "stream",
     "text": [
      "Output saved to /home/smanylal/MidTermReport1/NLPFinal/New/legal_reasoning_with_answers.json\n"
     ]
    },
    {
     "name": "stderr",
     "output_type": "stream",
     "text": [
      "Setting `pad_token_id` to `eos_token_id`:None for open-end generation.\n"
     ]
    },
    {
     "name": "stdout",
     "output_type": "stream",
     "text": [
      "Output saved to /home/smanylal/MidTermReport1/NLPFinal/New/legal_reasoning_with_answers.json\n"
     ]
    },
    {
     "name": "stderr",
     "output_type": "stream",
     "text": [
      "Setting `pad_token_id` to `eos_token_id`:None for open-end generation.\n"
     ]
    },
    {
     "name": "stdout",
     "output_type": "stream",
     "text": [
      "Output saved to /home/smanylal/MidTermReport1/NLPFinal/New/legal_reasoning_with_answers.json\n"
     ]
    },
    {
     "name": "stderr",
     "output_type": "stream",
     "text": [
      "Setting `pad_token_id` to `eos_token_id`:None for open-end generation.\n"
     ]
    },
    {
     "name": "stdout",
     "output_type": "stream",
     "text": [
      "Output saved to /home/smanylal/MidTermReport1/NLPFinal/New/legal_reasoning_with_answers.json\n"
     ]
    },
    {
     "name": "stderr",
     "output_type": "stream",
     "text": [
      "Setting `pad_token_id` to `eos_token_id`:None for open-end generation.\n"
     ]
    },
    {
     "name": "stdout",
     "output_type": "stream",
     "text": [
      "Output saved to /home/smanylal/MidTermReport1/NLPFinal/New/legal_reasoning_with_answers.json\n"
     ]
    },
    {
     "name": "stderr",
     "output_type": "stream",
     "text": [
      "Setting `pad_token_id` to `eos_token_id`:None for open-end generation.\n"
     ]
    },
    {
     "name": "stdout",
     "output_type": "stream",
     "text": [
      "Output saved to /home/smanylal/MidTermReport1/NLPFinal/New/legal_reasoning_with_answers.json\n"
     ]
    },
    {
     "name": "stderr",
     "output_type": "stream",
     "text": [
      "Setting `pad_token_id` to `eos_token_id`:None for open-end generation.\n"
     ]
    },
    {
     "name": "stdout",
     "output_type": "stream",
     "text": [
      "Output saved to /home/smanylal/MidTermReport1/NLPFinal/New/legal_reasoning_with_answers.json\n"
     ]
    },
    {
     "name": "stderr",
     "output_type": "stream",
     "text": [
      "Setting `pad_token_id` to `eos_token_id`:None for open-end generation.\n"
     ]
    },
    {
     "name": "stdout",
     "output_type": "stream",
     "text": [
      "Output saved to /home/smanylal/MidTermReport1/NLPFinal/New/legal_reasoning_with_answers.json\n"
     ]
    },
    {
     "name": "stderr",
     "output_type": "stream",
     "text": [
      "Setting `pad_token_id` to `eos_token_id`:None for open-end generation.\n"
     ]
    },
    {
     "name": "stdout",
     "output_type": "stream",
     "text": [
      "Output saved to /home/smanylal/MidTermReport1/NLPFinal/New/legal_reasoning_with_answers.json\n"
     ]
    },
    {
     "name": "stderr",
     "output_type": "stream",
     "text": [
      "Setting `pad_token_id` to `eos_token_id`:None for open-end generation.\n"
     ]
    },
    {
     "name": "stdout",
     "output_type": "stream",
     "text": [
      "Output saved to /home/smanylal/MidTermReport1/NLPFinal/New/legal_reasoning_with_answers.json\n"
     ]
    },
    {
     "name": "stderr",
     "output_type": "stream",
     "text": [
      "Setting `pad_token_id` to `eos_token_id`:None for open-end generation.\n"
     ]
    },
    {
     "name": "stdout",
     "output_type": "stream",
     "text": [
      "Output saved to /home/smanylal/MidTermReport1/NLPFinal/New/legal_reasoning_with_answers.json\n"
     ]
    },
    {
     "name": "stderr",
     "output_type": "stream",
     "text": [
      "Setting `pad_token_id` to `eos_token_id`:None for open-end generation.\n"
     ]
    },
    {
     "name": "stdout",
     "output_type": "stream",
     "text": [
      "Output saved to /home/smanylal/MidTermReport1/NLPFinal/New/legal_reasoning_with_answers.json\n"
     ]
    },
    {
     "name": "stderr",
     "output_type": "stream",
     "text": [
      "Setting `pad_token_id` to `eos_token_id`:None for open-end generation.\n"
     ]
    },
    {
     "name": "stdout",
     "output_type": "stream",
     "text": [
      "Output saved to /home/smanylal/MidTermReport1/NLPFinal/New/legal_reasoning_with_answers.json\n"
     ]
    },
    {
     "name": "stderr",
     "output_type": "stream",
     "text": [
      "Setting `pad_token_id` to `eos_token_id`:None for open-end generation.\n"
     ]
    },
    {
     "name": "stdout",
     "output_type": "stream",
     "text": [
      "Output saved to /home/smanylal/MidTermReport1/NLPFinal/New/legal_reasoning_with_answers.json\n"
     ]
    },
    {
     "name": "stderr",
     "output_type": "stream",
     "text": [
      "Setting `pad_token_id` to `eos_token_id`:None for open-end generation.\n"
     ]
    },
    {
     "name": "stdout",
     "output_type": "stream",
     "text": [
      "Output saved to /home/smanylal/MidTermReport1/NLPFinal/New/legal_reasoning_with_answers.json\n"
     ]
    },
    {
     "name": "stderr",
     "output_type": "stream",
     "text": [
      "Setting `pad_token_id` to `eos_token_id`:None for open-end generation.\n"
     ]
    },
    {
     "name": "stdout",
     "output_type": "stream",
     "text": [
      "Output saved to /home/smanylal/MidTermReport1/NLPFinal/New/legal_reasoning_with_answers.json\n"
     ]
    },
    {
     "name": "stderr",
     "output_type": "stream",
     "text": [
      "Setting `pad_token_id` to `eos_token_id`:None for open-end generation.\n"
     ]
    },
    {
     "name": "stdout",
     "output_type": "stream",
     "text": [
      "Output saved to /home/smanylal/MidTermReport1/NLPFinal/New/legal_reasoning_with_answers.json\n"
     ]
    },
    {
     "name": "stderr",
     "output_type": "stream",
     "text": [
      "Setting `pad_token_id` to `eos_token_id`:None for open-end generation.\n"
     ]
    },
    {
     "name": "stdout",
     "output_type": "stream",
     "text": [
      "Output saved to /home/smanylal/MidTermReport1/NLPFinal/New/legal_reasoning_with_answers.json\n"
     ]
    },
    {
     "name": "stderr",
     "output_type": "stream",
     "text": [
      "Setting `pad_token_id` to `eos_token_id`:None for open-end generation.\n"
     ]
    },
    {
     "name": "stdout",
     "output_type": "stream",
     "text": [
      "Output saved to /home/smanylal/MidTermReport1/NLPFinal/New/legal_reasoning_with_answers.json\n"
     ]
    },
    {
     "name": "stderr",
     "output_type": "stream",
     "text": [
      "Setting `pad_token_id` to `eos_token_id`:None for open-end generation.\n"
     ]
    },
    {
     "name": "stdout",
     "output_type": "stream",
     "text": [
      "Output saved to /home/smanylal/MidTermReport1/NLPFinal/New/legal_reasoning_with_answers.json\n"
     ]
    },
    {
     "name": "stderr",
     "output_type": "stream",
     "text": [
      "Setting `pad_token_id` to `eos_token_id`:None for open-end generation.\n"
     ]
    },
    {
     "name": "stdout",
     "output_type": "stream",
     "text": [
      "Output saved to /home/smanylal/MidTermReport1/NLPFinal/New/legal_reasoning_with_answers.json\n"
     ]
    },
    {
     "name": "stderr",
     "output_type": "stream",
     "text": [
      "Setting `pad_token_id` to `eos_token_id`:None for open-end generation.\n"
     ]
    },
    {
     "name": "stdout",
     "output_type": "stream",
     "text": [
      "Output saved to /home/smanylal/MidTermReport1/NLPFinal/New/legal_reasoning_with_answers.json\n"
     ]
    },
    {
     "name": "stderr",
     "output_type": "stream",
     "text": [
      "Setting `pad_token_id` to `eos_token_id`:None for open-end generation.\n"
     ]
    },
    {
     "name": "stdout",
     "output_type": "stream",
     "text": [
      "Output saved to /home/smanylal/MidTermReport1/NLPFinal/New/legal_reasoning_with_answers.json\n"
     ]
    },
    {
     "name": "stderr",
     "output_type": "stream",
     "text": [
      "Setting `pad_token_id` to `eos_token_id`:None for open-end generation.\n"
     ]
    },
    {
     "name": "stdout",
     "output_type": "stream",
     "text": [
      "Output saved to /home/smanylal/MidTermReport1/NLPFinal/New/legal_reasoning_with_answers.json\n"
     ]
    },
    {
     "name": "stderr",
     "output_type": "stream",
     "text": [
      "Setting `pad_token_id` to `eos_token_id`:None for open-end generation.\n"
     ]
    },
    {
     "name": "stdout",
     "output_type": "stream",
     "text": [
      "Output saved to /home/smanylal/MidTermReport1/NLPFinal/New/legal_reasoning_with_answers.json\n"
     ]
    },
    {
     "name": "stderr",
     "output_type": "stream",
     "text": [
      "Setting `pad_token_id` to `eos_token_id`:None for open-end generation.\n"
     ]
    },
    {
     "name": "stdout",
     "output_type": "stream",
     "text": [
      "Output saved to /home/smanylal/MidTermReport1/NLPFinal/New/legal_reasoning_with_answers.json\n"
     ]
    },
    {
     "name": "stderr",
     "output_type": "stream",
     "text": [
      "Setting `pad_token_id` to `eos_token_id`:None for open-end generation.\n"
     ]
    },
    {
     "name": "stdout",
     "output_type": "stream",
     "text": [
      "Output saved to /home/smanylal/MidTermReport1/NLPFinal/New/legal_reasoning_with_answers.json\n"
     ]
    },
    {
     "name": "stderr",
     "output_type": "stream",
     "text": [
      "Setting `pad_token_id` to `eos_token_id`:None for open-end generation.\n"
     ]
    },
    {
     "name": "stdout",
     "output_type": "stream",
     "text": [
      "Output saved to /home/smanylal/MidTermReport1/NLPFinal/New/legal_reasoning_with_answers.json\n"
     ]
    },
    {
     "name": "stderr",
     "output_type": "stream",
     "text": [
      "Setting `pad_token_id` to `eos_token_id`:None for open-end generation.\n"
     ]
    },
    {
     "name": "stdout",
     "output_type": "stream",
     "text": [
      "Output saved to /home/smanylal/MidTermReport1/NLPFinal/New/legal_reasoning_with_answers.json\n"
     ]
    },
    {
     "name": "stderr",
     "output_type": "stream",
     "text": [
      "Setting `pad_token_id` to `eos_token_id`:None for open-end generation.\n"
     ]
    },
    {
     "name": "stdout",
     "output_type": "stream",
     "text": [
      "Output saved to /home/smanylal/MidTermReport1/NLPFinal/New/legal_reasoning_with_answers.json\n"
     ]
    },
    {
     "name": "stderr",
     "output_type": "stream",
     "text": [
      "Setting `pad_token_id` to `eos_token_id`:None for open-end generation.\n"
     ]
    },
    {
     "name": "stdout",
     "output_type": "stream",
     "text": [
      "Output saved to /home/smanylal/MidTermReport1/NLPFinal/New/legal_reasoning_with_answers.json\n"
     ]
    },
    {
     "name": "stderr",
     "output_type": "stream",
     "text": [
      "Setting `pad_token_id` to `eos_token_id`:None for open-end generation.\n"
     ]
    },
    {
     "name": "stdout",
     "output_type": "stream",
     "text": [
      "Output saved to /home/smanylal/MidTermReport1/NLPFinal/New/legal_reasoning_with_answers.json\n"
     ]
    },
    {
     "name": "stderr",
     "output_type": "stream",
     "text": [
      "Setting `pad_token_id` to `eos_token_id`:None for open-end generation.\n"
     ]
    },
    {
     "name": "stdout",
     "output_type": "stream",
     "text": [
      "Output saved to /home/smanylal/MidTermReport1/NLPFinal/New/legal_reasoning_with_answers.json\n"
     ]
    },
    {
     "name": "stderr",
     "output_type": "stream",
     "text": [
      "Setting `pad_token_id` to `eos_token_id`:None for open-end generation.\n"
     ]
    },
    {
     "name": "stdout",
     "output_type": "stream",
     "text": [
      "Output saved to /home/smanylal/MidTermReport1/NLPFinal/New/legal_reasoning_with_answers.json\n"
     ]
    },
    {
     "name": "stderr",
     "output_type": "stream",
     "text": [
      "Setting `pad_token_id` to `eos_token_id`:None for open-end generation.\n"
     ]
    },
    {
     "name": "stdout",
     "output_type": "stream",
     "text": [
      "Output saved to /home/smanylal/MidTermReport1/NLPFinal/New/legal_reasoning_with_answers.json\n",
      "Output saved to /home/smanylal/MidTermReport1/NLPFinal/New/legal_reasoning_with_answers.json\n"
     ]
    }
   ],
   "source": [
    "def generate_output(prompt, max_tokens):\n",
    "    batch = tokenizer(prompt, return_tensors=\"pt\")\n",
    "    batch = {k: v.to(\"cuda\") for k, v in batch.items()}\n",
    "    with torch.no_grad():\n",
    "        outputs = model.generate(\n",
    "            **batch,\n",
    "            max_new_tokens=max_tokens,\n",
    "            do_sample=False,\n",
    "            top_p=1.0,\n",
    "            temperature=0,\n",
    "            use_cache=True,\n",
    "            top_k=50,\n",
    "            repetition_penalty=1.2,\n",
    "            length_penalty=1,\n",
    "            output_hidden_states=True,\n",
    "            return_dict_in_generate=True,\n",
    "        )\n",
    "    output_text = tokenizer.decode(outputs.sequences[0], skip_special_tokens=True)\n",
    "    return output_text[len(prompt):].strip()\n",
    "# Load input JSON file\n",
    "input_file = \"legal_reasoning_dataset.json\"  # Path to input JSON file\n",
    "output_json_file = \"/home/smanylal/MidTermReport1/NLPFinal/New/legal_reasoning_with_answers.json\"  # Path to save the output CSV file\n",
    "try:\n",
    "    with open(input_file, \"r\", encoding=\"utf-8\") as f:\n",
    "        data = json.load(f)\n",
    "except Exception as e:\n",
    "    print(f\"Error loading input file: {e}\")\n",
    "    data = {\"legal_scenarios\": []}\n",
    "# Prepare a list to store rows for the CSV\n",
    "output_scenarios = []\n",
    "# Process each scenario\n",
    "\n",
    "for scenario in data.get(\"legal_scenarios\", []):\n",
    "    legal_context = scenario['Context']\n",
    "    question = scenario['Question']\n",
    "    options = scenario['Options']\n",
    "    \n",
    "    # Generate the first output\n",
    "    user_prompt1 = legal_context + question + options + '''Task:\n",
    "    You are a helpful legal assistant. Choose the correct option by performing legal reasoning while strictly adhering to\n",
    "    the legal context and analysis provided. There is only one single correct answer. So only one option is correct.\n",
    "    \n",
    "    Important: Dont generate any beginning or end notes in the response . ONLY THE STEP BY STEP LEGAL REASONING FOLLOWED BY THE CORRECT OPTION MAINTAINING THE CORRECT FORMAT.\n",
    "\n",
    "    The Reasoning steps must be titled \"### Reasoning Steps:\" and Answer of Choice must be titled \"### Answer of Choice:\" so that the output can be parsed. \n",
    "    There will be a heavy penalty in the failure to do so.\n",
    "    \n",
    "    Please ensure that the output is clearly separated by special markers so that it can be parsed into individual elements later on.\n",
    "\n",
    "    ---\n",
    "\n",
    "    ### Reasoning Steps:\n",
    "    Step 1: [Premise-based reasoning derived from the legal_context]\n",
    "    Step 2: [Next reasoning step derived from previous steps and citing relevant premises]\n",
    "    ...\n",
    "    Step N: [Final reasoning step and conclusion based on the chain of reasoning]\n",
    "\n",
    "    ---\n",
    "\n",
    "    ### Answer of Choice:\n",
    "    Just one alphabet corresponding to the answer choice (A, B, C or D)\n",
    "    '''\n",
    "    \n",
    "    output_text1 = generate_output(user_prompt1, 1000)\n",
    "    \n",
    "    # Extract reasoning and correct answer\n",
    "    reasoning_start = output_text1.find(\"### Reasoning Steps:\")\n",
    "    answer_start = output_text1.find(\"### Answer of Choice:\")\n",
    "\n",
    "    if reasoning_start != -1 and answer_start != -1:\n",
    "        legal_reasoning = output_text1[reasoning_start + len(\"### Reasoning Steps:\"):answer_start].strip()\n",
    "        correct_answer = output_text1[answer_start + len(\"### Answer of Choice:\"):].strip()[:1]\n",
    "    else:\n",
    "        legal_reasoning = \"Error parsing reasoning.\"\n",
    "        correct_answer = \"Error parsing answer.\"\n",
    "\n",
    "    # Add to output scenarios\n",
    "    output_scenarios.append({\n",
    "        \"id\": scenario_id,\n",
    "        \"context\": legal_context,\n",
    "        \"question\": question,\n",
    "        \"options\": options,\n",
    "        \"legal_reasoning\": legal_reasoning,\n",
    "        \"correct_answer\": correct_answer\n",
    "    })\n",
    "\n",
    "    # Wrap in the required structure\n",
    "    output_data = {\n",
    "        \"legal_scenarios\": output_scenarios\n",
    "    }\n",
    "    \n",
    "    # Save to JSON file\n",
    "    try:\n",
    "        with open(output_json_file, \"w\", encoding=\"utf-8\") as f:\n",
    "            json.dump(output_data, f, indent=4, ensure_ascii=False)\n",
    "        #print(f\"Output saved to {output_json_file}\")\n",
    "    except Exception as e:\n",
    "        print(f\"Error saving output file: {e}\")\n"
   ]
  },
  {
   "cell_type": "code",
   "execution_count": 4,
   "id": "285d098a-79e2-428a-a5c6-942162fc3c6f",
   "metadata": {},
   "outputs": [
    {
     "name": "stderr",
     "output_type": "stream",
     "text": [
      "Setting `pad_token_id` to `eos_token_id`:None for open-end generation.\n",
      "Setting `pad_token_id` to `eos_token_id`:None for open-end generation.\n",
      "Setting `pad_token_id` to `eos_token_id`:None for open-end generation.\n",
      "Setting `pad_token_id` to `eos_token_id`:None for open-end generation.\n",
      "Setting `pad_token_id` to `eos_token_id`:None for open-end generation.\n",
      "Setting `pad_token_id` to `eos_token_id`:None for open-end generation.\n",
      "Setting `pad_token_id` to `eos_token_id`:None for open-end generation.\n",
      "Setting `pad_token_id` to `eos_token_id`:None for open-end generation.\n",
      "Setting `pad_token_id` to `eos_token_id`:None for open-end generation.\n",
      "Setting `pad_token_id` to `eos_token_id`:None for open-end generation.\n",
      "Setting `pad_token_id` to `eos_token_id`:None for open-end generation.\n",
      "Setting `pad_token_id` to `eos_token_id`:None for open-end generation.\n",
      "Setting `pad_token_id` to `eos_token_id`:None for open-end generation.\n",
      "Setting `pad_token_id` to `eos_token_id`:None for open-end generation.\n",
      "Setting `pad_token_id` to `eos_token_id`:None for open-end generation.\n",
      "Setting `pad_token_id` to `eos_token_id`:None for open-end generation.\n",
      "Setting `pad_token_id` to `eos_token_id`:None for open-end generation.\n",
      "Setting `pad_token_id` to `eos_token_id`:None for open-end generation.\n",
      "Setting `pad_token_id` to `eos_token_id`:None for open-end generation.\n",
      "Setting `pad_token_id` to `eos_token_id`:None for open-end generation.\n",
      "Setting `pad_token_id` to `eos_token_id`:None for open-end generation.\n",
      "Setting `pad_token_id` to `eos_token_id`:None for open-end generation.\n",
      "Setting `pad_token_id` to `eos_token_id`:None for open-end generation.\n",
      "Setting `pad_token_id` to `eos_token_id`:None for open-end generation.\n",
      "Setting `pad_token_id` to `eos_token_id`:None for open-end generation.\n",
      "Setting `pad_token_id` to `eos_token_id`:None for open-end generation.\n",
      "Setting `pad_token_id` to `eos_token_id`:None for open-end generation.\n",
      "Setting `pad_token_id` to `eos_token_id`:None for open-end generation.\n",
      "Setting `pad_token_id` to `eos_token_id`:None for open-end generation.\n",
      "Setting `pad_token_id` to `eos_token_id`:None for open-end generation.\n"
     ]
    }
   ],
   "source": [
    "def generate_output(prompt, max_tokens):\n",
    "    batch = tokenizer(prompt, return_tensors=\"pt\")\n",
    "    batch = {k: v.to(\"cuda\") for k, v in batch.items()}\n",
    "    with torch.no_grad():\n",
    "        outputs = model.generate(\n",
    "            **batch,\n",
    "            max_new_tokens=max_tokens,\n",
    "            do_sample=False,\n",
    "            top_p=1.0,\n",
    "            temperature=0,\n",
    "            use_cache=True,\n",
    "            top_k=50,\n",
    "            repetition_penalty=1.2,\n",
    "            length_penalty=1,\n",
    "            output_hidden_states=True,\n",
    "            return_dict_in_generate=True,\n",
    "        )\n",
    "    output_text = tokenizer.decode(outputs.sequences[0], skip_special_tokens=True)\n",
    "    return output_text[len(prompt):].strip()\n",
    "\n",
    "input_file = \"legal_reasoning_with_questions.json\"  # Path to input JSON file\n",
    "output_json_file = \"/home/smanylal/MidTermReport1/NLPFinal/New/legal_reasoning_with_final_answers.json\"\n",
    "\n",
    "# Load the input file\n",
    "try:\n",
    "    with open(input_file, \"r\", encoding=\"utf-8\") as f:\n",
    "        data = json.load(f)\n",
    "except Exception as e:\n",
    "    print(f\"Error loading input file: {e}\")\n",
    "    data = {\"legal_scenarios\": []}\n",
    "\n",
    "json_rows = []\n",
    "\n",
    "# Process each scenario\n",
    "for scenario in data.get(\"legal_scenarios\", []):\n",
    "    scenario_id = scenario['id']\n",
    "    legal_context = scenario['context']\n",
    "    question = scenario['question']\n",
    "    options = scenario['options']\n",
    "    legal_reasoning = scenario['legal_reasoning']\n",
    "    correct_answer = scenario['correct_answer']\n",
    "    verification_questions = scenario.get('verification_questions', [])\n",
    "\n",
    "    # Ensure verification_questions is properly formatted for use\n",
    "    if isinstance(verification_questions, list):\n",
    "        verification_questions_text = '\\n'.join(verification_questions)\n",
    "    else:\n",
    "        print(f\"Error: Verification questions are not a list for scenario ID {scenario_id}\")\n",
    "        verification_questions_text = \"Error in verification questions format.\"\n",
    "\n",
    "\n",
    "    #print(verification_questions_text)\n",
    "    # Generate prompt for the output\n",
    "    user_prompt3 = (\n",
    "        legal_context + question + options + legal_reasoning + verification_questions_text +\n",
    "        '''Task:\n",
    "        You are a helpful legal assistant.  You are given:\n",
    "        1) a legal_context.\n",
    "        2) a question.\n",
    "        3) answer options to the given question out of which only one is true. \n",
    "        4) the legal_reasoning behind the legal_context.\n",
    "        5) verification questions\n",
    "\n",
    "        Your task is to analyse the reasoning steps and verify them against their corresponding verification_questions. \n",
    "        If answering the questions results in a change of the response, provide the following:\n",
    "\n",
    "        Rewrite the reasoning steps to correct the identified issues, ensuring that they address the faults or fallacies identified through the verification questions.\n",
    "        If the correct answer changes due to the updated reasoning, provide the revised choice.\n",
    "\n",
    "        Strictly follow the guidelines given below. the answers must be in the format given below.\n",
    "        The Final Answer of Choice must be titled \"### Final Answer of Choice:\" so that the output can be parsed. there will be a heavy penalty if this isn't followed.\n",
    "        Please ensure that the output is clearly separated by special markers as given below so that it can be parsed into individual elements later on:\n",
    "\n",
    "        ---\n",
    "        \n",
    "        ### Updated Reasoning Steps:\n",
    "        Step 1: [Premise-based reasoning derived from the legal_context]\n",
    "        Step 2: [Next reasoning step derived from previous steps and citing relevant premises]\n",
    "        ...\n",
    "        Step N: [Final reasoning step and conclusion based on the chain of reasoning]\n",
    "\n",
    "        ---\n",
    "\n",
    "        ### Final Answer of Choice:\n",
    "        Just one alphabet corresponding to the answer choice (A, B, C or D)'''\n",
    "    )\n",
    "\n",
    "    try:\n",
    "        # Generate output from the prompt\n",
    "        final_answer = generate_output(user_prompt3, 1500)\n",
    "    except Exception as e:\n",
    "        print(f\"Error generating output for scenario ID {scenario_id}: {e}\")\n",
    "        final_answer = \"Error generating output.\"\n",
    "\n",
    "    # Extract reasoning and correct answer\n",
    "    reasoning_start = final_answer.find(\"### Updated Reasoning Steps\")\n",
    "    answer_start = final_answer.find(\"### Final Answer of Choice\")\n",
    "\n",
    "    if reasoning_start != -1 and answer_start != -1:\n",
    "        updated_legal_reasoning = final_answer[\n",
    "            reasoning_start + len(\"### Updated Reasoning Steps\"):answer_start\n",
    "        ].strip()\n",
    "        final_correct_answer = final_answer[\n",
    "            answer_start + len(\"### Final Answer of Choice\"):\n",
    "        ].strip()[2:3]\n",
    "    else:\n",
    "        final_correct_answer = final_answer\n",
    "        updated_legal_reasoning = final_answer\n",
    "\n",
    "    # Append the data to the list for JSON\n",
    "    json_rows.append({\n",
    "        \"ID\": scenario_id,\n",
    "        \"Context\": legal_context,\n",
    "        \"Question\": question,\n",
    "        \"Options\": options,\n",
    "        \"legal_reasoning\": legal_reasoning,\n",
    "        \"correct_answer\": correct_answer,\n",
    "        \"verification_questions\": verification_questions,\n",
    "        \"updated_reasoning\": updated_legal_reasoning,\n",
    "        \"final_answer\": final_correct_answer\n",
    "    })\n",
    "\n",
    "# Wrap the list in the final JSON structure\n",
    "    output_data = {\n",
    "        \"legal_scenarios\": json_rows\n",
    "    }\n",
    "    \n",
    "    # Save the data to the JSON file\n",
    "    try:\n",
    "        with open(output_json_file, \"w\", encoding=\"utf-8\") as f:\n",
    "            json.dump(output_data, f, indent=4, ensure_ascii=False)\n",
    "        #print(f\"Output saved to {output_json_file}\")\n",
    "    except Exception as e:\n",
    "        print(f\"Error saving output file: {e}\")\n"
   ]
  },
  {
   "cell_type": "code",
   "execution_count": null,
   "id": "93569c21-51c3-433b-b16f-285b47bad353",
   "metadata": {},
   "outputs": [],
   "source": []
  }
 ],
 "metadata": {
  "kernelspec": {
   "display_name": "Python 3 (ipykernel)",
   "language": "python",
   "name": "python3"
  },
  "language_info": {
   "codemirror_mode": {
    "name": "ipython",
    "version": 3
   },
   "file_extension": ".py",
   "mimetype": "text/x-python",
   "name": "python",
   "nbconvert_exporter": "python",
   "pygments_lexer": "ipython3",
   "version": "3.11.6"
  }
 },
 "nbformat": 4,
 "nbformat_minor": 5
}
